{
 "cells": [
  {
   "cell_type": "markdown",
   "metadata": {},
   "source": [
    "# NYC GeoClient tutorial\n",
    "\n",
    "In this lesson, we are going to go over how to geocode addresses using Python and NYC's GeoClient.\n",
    "\n",
    "[Presentation on geocoding](https://docs.google.com/presentation/d/1LyM9f6icWiee1HE5ai_H73_IZ4C65YAzX52cR-flifo/edit?usp=sharing)\n",
    "\n",
    "The Department of City Planning (DCP) maintains the official NYC geocoding application called GeoSupport. There are multiple ways of accessing this application. A web interface ([GOAT](http://a030-goat.nyc.gov/goat/Default.aspx.)) lets you query addresses one-by-one.\n",
    "\n",
    "Another way of accessing the online version of GeoSupport is through and API maintained by the Department of Information Technology and Telecommunications (DoITT). In order to use this API, you need to [register for an account and request an API key.](https://developer.cityofnewyork.us/api/geoclient-api) For now you can use the keys provided here.\n",
    "\n",
    "To make things easier, [John Krauss](https://github.com/talos/nyc-geoclient) wrote Python bindings for DoITT’s Geoclient API that allows for querying using Python. Documentation here: [nyc_geoclient](https://nyc-geoclient.readthedocs.io/en/latest/geoclient.html). \n",
    "\n",
    "Install this package, from the command line \n",
    "\n",
    "> pip install nyc_geoclient.\n",
    "\n",
    "For this tutorial we will be using pandas, so if you haven't already, install that as well. \n",
    "\n",
    "> pip install pandas.\n",
    "\n",
    "## Part 1 - geocoding single addresses\n",
    "\n",
    "We can querry GeoClient directly from a browser. This would be the querry for 253 Broadway in Manhattan, try it in your browser:\n",
    "\n",
    "https://api.cityofnewyork.us/geoclient/v1/address.json?houseNumber=253&street=broadway&borough=manhattan&app_id=fb9ad04a&app_key=051f93e4125df4bae4f7c57517e62344\n",
    "\n",
    "The query is a bit cumbersom because you have to include the app_id and app_key (this is what identifies you once you register on DOITT's website). Also the output is not easy to deal with in a browser. But you get the idea of how it works.\n",
    "\n",
    "### python bindings\n",
    "Now let's try it using the python bindings: nyc_geoclient.py"
   ]
  },
  {
   "cell_type": "code",
   "execution_count": null,
   "metadata": {},
   "outputs": [],
   "source": [
    "# import the package\n",
    "from nyc_geoclient import Geoclient\n",
    "\n",
    "#set up the app key and id (you can get your own from DOITT's website)\n",
    "myAppID = 'fb9ad04a'\n",
    "myKey = '051f93e4125df4bae4f7c57517e62344'\n",
    "\n",
    "g = Geoclient(myAppID,myKey)"
   ]
  },
  {
   "cell_type": "markdown",
   "metadata": {},
   "source": [
    "The nyc_geoclient package has stored our credentials and can use it to query the online API. We don't need to worry about the credentials after this, it's all stored in the variable g.\n",
    "\n",
    "The address function needs a house number, street name, and either borough or zipcode. Try it a few times to see what you get back."
   ]
  },
  {
   "cell_type": "code",
   "execution_count": null,
   "metadata": {
    "scrolled": true
   },
   "outputs": [],
   "source": [
    "g.address(253,'Broadway','manhattan')"
   ]
  },
  {
   "cell_type": "code",
   "execution_count": null,
   "metadata": {},
   "outputs": [],
   "source": [
    "g.address(253,'Broadway','10007')"
   ]
  },
  {
   "cell_type": "markdown",
   "metadata": {},
   "source": [
    "As you can see, the function returns a LOT of information. The information is returned in the form of a **dictionary**.\n",
    "\n",
    "In this example, the first **key** of the dictionary above is 'assemblyDistrict', and the associated value is '66'.\n",
    "\n",
    "Questions: \n",
    "\n",
    "How would you return *only* 'assemblyDistrict' or 'BBL' for instance?\n",
    "\n",
    "What is the BIN and BBL for 100 Gold Street?"
   ]
  },
  {
   "cell_type": "markdown",
   "metadata": {},
   "source": [
    "## Part 2 - geocoding a dataframe\n",
    "This is great, but it only allows us to do one address at a time. What if we had a dataframe of addresses to geocode?\n",
    "\n",
    "For this I have written a [geoclientBatch](https://github.com/deenapatel/geocode/blob/master/geoclient.py) function that loops through a dataframe, geocoding each row using Geoclient.\n",
    "\n",
    "### setting up the data\n",
    "First let's get some data to work with. Let's say we are interested in all the micro breweries in NYC.\n",
    "\n",
    "The NY State Open Data portal has a listing of active liquor licenses https://data.ny.gov/Economic-Development/Liquor-Authority-Quarterly-List-of-Active-Licenses/hrvs-fxs2/data.\n",
    "\n",
    "I downloaded all of the 'Micro Brewer' license types in NYC (filtering on County Names= NEW YORK, BRONX, BROOKLYN, QUEENS, RICHMOND) and saved it in the [data folder](https://github.com/deenapatel/geocode/tree/master/data).\n",
    "\n",
    "Let's read this into a dataframe"
   ]
  },
  {
   "cell_type": "code",
   "execution_count": null,
   "metadata": {},
   "outputs": [],
   "source": [
    "# import pandas and set the options to diplay more rows and columns than the default\n",
    "import pandas as pd\n",
    "pd.options.display.max_rows = 100\n",
    "pd.options.display.max_columns = 100\n",
    "\n",
    "mblic = pd.read_csv('data/Liquor_Authority_Quarterly_List_of_Active_Licenses2018-07-30.csv')\n",
    "print mblic.shape\n",
    "mblic.head()"
   ]
  },
  {
   "cell_type": "markdown",
   "metadata": {},
   "source": [
    "Notice this dataframe as Address as a single column. We'll need to separate this into a house number column and a street column before using geoclient.\n",
    "\n",
    "Pandas lets you use [regular expressions](https://en.wikipedia.org/wiki/Regular_expression) via the [pandas.Series.str.extract](https://pandas.pydata.org/pandas-docs/stable/generated/pandas.Series.str.extract.html) function.\n",
    "\n",
    "This won't work for every address, but it's pretty close.\n"
   ]
  },
  {
   "cell_type": "code",
   "execution_count": null,
   "metadata": {},
   "outputs": [],
   "source": [
    "# the address column name is a bit cumbersom, so let's store it as a variable\n",
    "addressCol = 'Actual Address of Premises (Address1)'\n",
    "\n",
    "# extracting out the house number, this is any number or - \\\n",
    "#(Queens has -'s in their numbers)\n",
    "mblic['houseNo'] = mblic[addressCol].str.extract('(^[0-9|-]*)',expand=False)\n",
    "# extract everything after the space as being the street\n",
    "mblic['street'] = mblic[addressCol].str.extract('(\\s.+$)',expand=False)\n",
    "\n",
    "# rename the borough column\n",
    "mblic['borough'] = mblic['County Name (Licensee)']\n",
    "# let's see how it looks\n",
    "mblic[[addressCol,'houseNo','street','borough']]"
   ]
  },
  {
   "cell_type": "markdown",
   "metadata": {},
   "source": [
    "### running geoclient batch\n",
    "Now we are ready to start to geocode it.\n",
    "\n",
    "Make sure geoclient.py is in the current folder"
   ]
  },
  {
   "cell_type": "code",
   "execution_count": null,
   "metadata": {},
   "outputs": [],
   "source": [
    "from geoclient import geoclientBatch"
   ]
  },
  {
   "cell_type": "code",
   "execution_count": null,
   "metadata": {},
   "outputs": [],
   "source": [
    "mblic = geoclientBatch(mblic, houseNo='houseNo', street='street', boro='borough')\n",
    "mblic"
   ]
  },
  {
   "cell_type": "markdown",
   "metadata": {},
   "source": [
    "Did they all geocode? If not why?\n",
    "\n",
    "What do you need to do to get most of them to geocode?"
   ]
  },
  {
   "cell_type": "code",
   "execution_count": null,
   "metadata": {},
   "outputs": [],
   "source": [
    "mblic[mblic.geoBBL=='']"
   ]
  },
  {
   "cell_type": "markdown",
   "metadata": {},
   "source": [
    "#### followup exercises\n",
    "1. What type of buildings are these microbreweries located in? \n",
    "DCP's PLUTO (Primary Land Use Tax Lot Output) has BBL as well as info on building class (and much more). Download this dataset and match it using BBL.\n",
    "\n",
    "2. What neighborhoods are these breweries located in?\n",
    "How would you modify geoclientBatch to include 'nta' or 'ntaName'? NTA stands for Neighborhood Tabulation Area."
   ]
  },
  {
   "cell_type": "code",
   "execution_count": null,
   "metadata": {},
   "outputs": [],
   "source": []
  },
  {
   "cell_type": "code",
   "execution_count": null,
   "metadata": {},
   "outputs": [],
   "source": []
  }
 ],
 "metadata": {
  "kernelspec": {
   "display_name": "Python 2",
   "language": "python",
   "name": "python2"
  },
  "language_info": {
   "codemirror_mode": {
    "name": "ipython",
    "version": 2
   },
   "file_extension": ".py",
   "mimetype": "text/x-python",
   "name": "python",
   "nbconvert_exporter": "python",
   "pygments_lexer": "ipython2",
   "version": "2.7.12"
  }
 },
 "nbformat": 4,
 "nbformat_minor": 2
}
