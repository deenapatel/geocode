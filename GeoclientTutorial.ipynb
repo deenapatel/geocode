{
 "cells": [
  {
   "cell_type": "markdown",
   "metadata": {},
   "source": [
    "# GeoClient tutorial\n",
    "\n",
    "In this lesson, we are going to go over how to geocode addresses using Python and NYC's GeoClient.\n",
    "\n",
    "The Department of City Planning (DCP) maintains a geocoding application called Geosupport Desktop Edition that you can download and use to query and geocode addresses, BBLs, or BINs. It can be found at the following link: http://www1.nyc.gov/site/planning/data-maps/open-data/dwn-gde-home.page. They also have an online interface version that lets you query addresses one-by-one: http://a030-goat.nyc.gov/goat/Default.aspx.\n",
    "\n",
    "In addition, the Department of Information Technology and Telecommunications (DoITT) has built a Geoclient API that allows you to query the geocoding service without having to download and install the desktop edition. In order to use this API, you must first register for an account and request an API key. This can be done at the following link: https://developer.cityofnewyork.us/api/geoclient-api. \n",
    "\n",
    "To make things easier, John Krauss wrote Python bindings for DoITT’s Geoclient API that allows for easy querying using Python. To install this package, from the command line >>> pip install nyc_geoclient.\n",
    "\n",
    "In addition for this tutorial we will be using pandas, so if you haven't already, install that as well. >>> pip install pandas.\n",
    "\n",
    "## geocoding single addresses\n"
   ]
  },
  {
   "cell_type": "code",
   "execution_count": null,
   "metadata": {},
   "outputs": [],
   "source": [
    "# read in the package\n",
    "from nyc_geoclient import Geoclient\n",
    "\n",
    "#set up the app key and id (you can get your own from DOITT's website)\n",
    "\n",
    "myAppID = 'fb9ad04a'\n",
    "myKey = '051f93e4125df4bae4f7c57517e62344'\n",
    "\n",
    "g = Geoclient(myAppID,myKey)"
   ]
  },
  {
   "cell_type": "markdown",
   "metadata": {},
   "source": [
    "The nyc_geoclient package has now stored our credentials and can use it to query the online API.\n",
    "\n",
    "The address function needs a house number, street name, and either borough or zipcode. Try it a few times to see what you get back."
   ]
  },
  {
   "cell_type": "code",
   "execution_count": null,
   "metadata": {
    "scrolled": true
   },
   "outputs": [],
   "source": [
    "g.address(253,'Broadway','manhattan')"
   ]
  },
  {
   "cell_type": "code",
   "execution_count": null,
   "metadata": {},
   "outputs": [],
   "source": [
    "g.address(253,'Broadway','10007')"
   ]
  },
  {
   "cell_type": "markdown",
   "metadata": {},
   "source": [
    "As you can see, the function returns a LOT of information. The information is returned in the form of a **dictionary**.\n",
    "\n",
    "Dictionaries are sort of similar to DataFrames in that they store information that you can access via **keys** (similar to DataFrame columns).\n",
    "\n",
    "For example, the first **key** of the dictionary above is 'assemblyDistrict', and the associated value is '66'.\n",
    "\n",
    "Questions: \n",
    "\n",
    "How would you return *only* 'assemblyDistrict' or 'BBL' for instance?\n",
    "\n",
    "What is the BIN and BBL for 100 Gold Street?"
   ]
  },
  {
   "cell_type": "code",
   "execution_count": null,
   "metadata": {},
   "outputs": [],
   "source": []
  },
  {
   "cell_type": "code",
   "execution_count": null,
   "metadata": {},
   "outputs": [],
   "source": []
  },
  {
   "cell_type": "markdown",
   "metadata": {},
   "source": [
    "## geocoding a dataframe\n",
    "This is great, but it only allows us to do one address at a time. What if we had a dataframe of addresses to geocode?\n",
    "\n",
    "For this I have written a geoclientBatch function that loops through a dataframe, geocoding each row using Geoclient.\n",
    "\n",
    "First let's get some data to work with. The NY State Open Data portal has a listing of active liquor licenses https://data.ny.gov/Economic-Development/Liquor-Authority-Quarterly-List-of-Active-Licenses/hrvs-fxs2/data.\n",
    "\n",
    "I downloaded all of the 'Micro Brewer' license types in NYC (filtering on County Names= NEW YORK, BRONX, BROOKLYN, QUEENS, RICHMOND).\n",
    "\n",
    "Let's read this into a dataframe"
   ]
  },
  {
   "cell_type": "code",
   "execution_count": null,
   "metadata": {},
   "outputs": [],
   "source": [
    "# import pandas and set the options to diplay more rows and columns than the default\n",
    "import pandas as pd\n",
    "pd.options.display.max_rows = 100\n",
    "pd.options.display.max_columns = 100\n",
    "\n",
    "mblic = pd.read_csv('data/Liquor_Authority_Quarterly_List_of_Active_Licenses2018-07-30.csv')\n",
    "print mblic.shape\n",
    "mblic.head()"
   ]
  },
  {
   "cell_type": "markdown",
   "metadata": {},
   "source": [
    "Notice this dataframe as Address as a single column. We'll need to separate this into a house number column and a street column before using geoclient."
   ]
  },
  {
   "cell_type": "code",
   "execution_count": null,
   "metadata": {},
   "outputs": [],
   "source": [
    "addressCol = 'Actual Address of Premises (Address1)'\n",
    "mblic['houseNo'] = mblic[addressCol].str.extract('(^[0-9|-]*)',expand=False)\n",
    "mblic['street'] = mblic[addressCol].str.extract('(\\s.+$)',expand=False)\n",
    "mblic['borough'] = mblic['County Name (Licensee)']\n",
    "\n",
    "mblic[[addressCol,'houseNo','street','borough']]"
   ]
  },
  {
   "cell_type": "code",
   "execution_count": null,
   "metadata": {},
   "outputs": [],
   "source": [
    "# make sure geoclient.py is in the current folder and then import to use it here\n",
    "from geoclient import geoclientBatch"
   ]
  },
  {
   "cell_type": "code",
   "execution_count": null,
   "metadata": {},
   "outputs": [],
   "source": [
    "mblic = geoclientBatch(mblic, houseNo='houseNo', street='street', boro='borough')\n",
    "mblic"
   ]
  },
  {
   "cell_type": "markdown",
   "metadata": {},
   "source": [
    "Did they all geocode? If not why?"
   ]
  },
  {
   "cell_type": "code",
   "execution_count": null,
   "metadata": {},
   "outputs": [],
   "source": [
    "mblic[mblic.geoBBL=='']"
   ]
  },
  {
   "cell_type": "code",
   "execution_count": null,
   "metadata": {},
   "outputs": [],
   "source": []
  },
  {
   "cell_type": "code",
   "execution_count": null,
   "metadata": {},
   "outputs": [],
   "source": []
  },
  {
   "cell_type": "code",
   "execution_count": null,
   "metadata": {},
   "outputs": [],
   "source": []
  },
  {
   "cell_type": "code",
   "execution_count": null,
   "metadata": {},
   "outputs": [],
   "source": []
  }
 ],
 "metadata": {
  "kernelspec": {
   "display_name": "Python 2",
   "language": "python",
   "name": "python2"
  },
  "language_info": {
   "codemirror_mode": {
    "name": "ipython",
    "version": 2
   },
   "file_extension": ".py",
   "mimetype": "text/x-python",
   "name": "python",
   "nbconvert_exporter": "python",
   "pygments_lexer": "ipython2",
   "version": "2.7.12"
  }
 },
 "nbformat": 4,
 "nbformat_minor": 2
}
